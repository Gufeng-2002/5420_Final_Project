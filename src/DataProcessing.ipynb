{
 "cells": [
  {
   "cell_type": "code",
   "execution_count": 1,
   "metadata": {},
   "outputs": [
    {
     "name": "stdout",
     "output_type": "stream",
     "text": [
      "<class 'pandas.core.frame.DataFrame'>\n",
      "RangeIndex: 9105 entries, 0 to 9104\n",
      "Data columns (total 48 columns):\n",
      " #   Column    Non-Null Count  Dtype  \n",
      "---  ------    --------------  -----  \n",
      " 0   id        9105 non-null   int64  \n",
      " 1   age       9105 non-null   float64\n",
      " 2   death     9105 non-null   int64  \n",
      " 3   sex       9105 non-null   object \n",
      " 4   hospdead  9105 non-null   int64  \n",
      " 5   slos      9105 non-null   int64  \n",
      " 6   d.time    9105 non-null   int64  \n",
      " 7   dzgroup   9105 non-null   object \n",
      " 8   dzclass   9105 non-null   object \n",
      " 9   num.co    9105 non-null   int64  \n",
      " 10  edu       7471 non-null   float64\n",
      " 11  income    6123 non-null   object \n",
      " 12  scoma     9104 non-null   float64\n",
      " 13  charges   8933 non-null   float64\n",
      " 14  totcst    8217 non-null   float64\n",
      " 15  totmcst   5630 non-null   float64\n",
      " 16  avtisst   9023 non-null   float64\n",
      " 17  race      9063 non-null   object \n",
      " 18  sps       9104 non-null   float64\n",
      " 19  aps       9104 non-null   float64\n",
      " 20  surv2m    9104 non-null   float64\n",
      " 21  surv6m    9104 non-null   float64\n",
      " 22  hday      9105 non-null   int64  \n",
      " 23  diabetes  9105 non-null   int64  \n",
      " 24  dementia  9105 non-null   int64  \n",
      " 25  ca        9105 non-null   object \n",
      " 26  prg2m     7456 non-null   float64\n",
      " 27  prg6m     7472 non-null   float64\n",
      " 28  dnr       9075 non-null   object \n",
      " 29  dnrday    9075 non-null   float64\n",
      " 30  meanbp    9104 non-null   float64\n",
      " 31  wblc      8893 non-null   float64\n",
      " 32  hrt       9104 non-null   float64\n",
      " 33  resp      9104 non-null   float64\n",
      " 34  temp      9104 non-null   float64\n",
      " 35  pafi      6780 non-null   float64\n",
      " 36  alb       5733 non-null   float64\n",
      " 37  bili      6504 non-null   float64\n",
      " 38  crea      9038 non-null   float64\n",
      " 39  sod       9104 non-null   float64\n",
      " 40  ph        6821 non-null   float64\n",
      " 41  glucose   4605 non-null   float64\n",
      " 42  bun       4753 non-null   float64\n",
      " 43  urine     4243 non-null   float64\n",
      " 44  adlp      3464 non-null   float64\n",
      " 45  adls      6238 non-null   float64\n",
      " 46  sfdm2     7705 non-null   object \n",
      " 47  adlsc     9105 non-null   float64\n",
      "dtypes: float64(31), int64(9), object(8)\n",
      "memory usage: 3.3+ MB\n"
     ]
    }
   ],
   "source": [
    "from ucimlrepo import fetch_ucirepo \n",
    "  \n",
    "# fetch dataset \n",
    "support2 = fetch_ucirepo(id=880) \n",
    "  \n",
    "# data (as pandas dataframes) \n",
    "data = support2.data['original']\n",
    "\n",
    "data.info()"
   ]
  },
  {
   "cell_type": "code",
   "execution_count": null,
   "metadata": {},
   "outputs": [],
   "source": []
  }
 ],
 "metadata": {
  "kernelspec": {
   "display_name": "base",
   "language": "python",
   "name": "python3"
  },
  "language_info": {
   "codemirror_mode": {
    "name": "ipython",
    "version": 3
   },
   "file_extension": ".py",
   "mimetype": "text/x-python",
   "name": "python",
   "nbconvert_exporter": "python",
   "pygments_lexer": "ipython3",
   "version": "3.11.10"
  }
 },
 "nbformat": 4,
 "nbformat_minor": 2
}
