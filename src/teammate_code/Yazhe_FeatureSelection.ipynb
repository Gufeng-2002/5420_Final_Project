{
 "cells": [
  {
   "cell_type": "code",
   "execution_count": 1,
   "metadata": {},
   "outputs": [
    {
     "data": {
      "text/html": [
       "<div>\n",
       "<style scoped>\n",
       "    .dataframe tbody tr th:only-of-type {\n",
       "        vertical-align: middle;\n",
       "    }\n",
       "\n",
       "    .dataframe tbody tr th {\n",
       "        vertical-align: top;\n",
       "    }\n",
       "\n",
       "    .dataframe thead th {\n",
       "        text-align: right;\n",
       "    }\n",
       "</style>\n",
       "<table border=\"1\" class=\"dataframe\">\n",
       "  <thead>\n",
       "    <tr style=\"text-align: right;\">\n",
       "      <th></th>\n",
       "      <th>num__avtisst</th>\n",
       "      <th>num__dnrday</th>\n",
       "      <th>cat_simple__dnr</th>\n",
       "      <th>num__adlsc</th>\n",
       "      <th>num__prg6m</th>\n",
       "      <th>num__adls</th>\n",
       "      <th>cat_one_hot__dzgroup_COPD</th>\n",
       "      <th>num__sps</th>\n",
       "      <th>num__aps</th>\n",
       "      <th>num__hday</th>\n",
       "      <th>cat_one_hot__dzclass_ARF/MOSF</th>\n",
       "      <th>cat_simple__sfdm2</th>\n",
       "    </tr>\n",
       "  </thead>\n",
       "  <tbody>\n",
       "    <tr>\n",
       "      <th>0</th>\n",
       "      <td>2.486522</td>\n",
       "      <td>-0.359283</td>\n",
       "      <td>-0.758602</td>\n",
       "      <td>-0.902677</td>\n",
       "      <td>-1.560443</td>\n",
       "      <td>-0.762361</td>\n",
       "      <td>-0.345108</td>\n",
       "      <td>1.313336</td>\n",
       "      <td>1.388011</td>\n",
       "      <td>-0.062275</td>\n",
       "      <td>1.047867</td>\n",
       "      <td>1.0</td>\n",
       "    </tr>\n",
       "    <tr>\n",
       "      <th>1</th>\n",
       "      <td>1.673238</td>\n",
       "      <td>-0.463264</td>\n",
       "      <td>-0.758602</td>\n",
       "      <td>0.068511</td>\n",
       "      <td>0.044698</td>\n",
       "      <td>0.264000</td>\n",
       "      <td>-0.345108</td>\n",
       "      <td>1.146439</td>\n",
       "      <td>2.124315</td>\n",
       "      <td>1.822473</td>\n",
       "      <td>1.047867</td>\n",
       "      <td>1.0</td>\n",
       "    </tr>\n",
       "    <tr>\n",
       "      <th>2</th>\n",
       "      <td>1.895043</td>\n",
       "      <td>-0.619234</td>\n",
       "      <td>1.067256</td>\n",
       "      <td>-0.417083</td>\n",
       "      <td>-1.382094</td>\n",
       "      <td>-0.249181</td>\n",
       "      <td>-0.345108</td>\n",
       "      <td>0.970354</td>\n",
       "      <td>0.602621</td>\n",
       "      <td>-0.271691</td>\n",
       "      <td>1.047867</td>\n",
       "      <td>1.0</td>\n",
       "    </tr>\n",
       "    <tr>\n",
       "      <th>3</th>\n",
       "      <td>-0.840547</td>\n",
       "      <td>-0.359283</td>\n",
       "      <td>-0.758602</td>\n",
       "      <td>0.554105</td>\n",
       "      <td>-0.668698</td>\n",
       "      <td>0.777181</td>\n",
       "      <td>-0.345108</td>\n",
       "      <td>0.146967</td>\n",
       "      <td>1.142577</td>\n",
       "      <td>-0.166983</td>\n",
       "      <td>1.047867</td>\n",
       "      <td>1.0</td>\n",
       "    </tr>\n",
       "    <tr>\n",
       "      <th>4</th>\n",
       "      <td>-0.692677</td>\n",
       "      <td>-0.671224</td>\n",
       "      <td>1.067256</td>\n",
       "      <td>0.445510</td>\n",
       "      <td>0.044698</td>\n",
       "      <td>-0.249181</td>\n",
       "      <td>-0.345108</td>\n",
       "      <td>-0.000026</td>\n",
       "      <td>-0.673639</td>\n",
       "      <td>-0.376399</td>\n",
       "      <td>-0.954319</td>\n",
       "      <td>1.0</td>\n",
       "    </tr>\n",
       "  </tbody>\n",
       "</table>\n",
       "</div>"
      ],
      "text/plain": [
       "   num__avtisst  num__dnrday  cat_simple__dnr  num__adlsc  num__prg6m  \\\n",
       "0      2.486522    -0.359283        -0.758602   -0.902677   -1.560443   \n",
       "1      1.673238    -0.463264        -0.758602    0.068511    0.044698   \n",
       "2      1.895043    -0.619234         1.067256   -0.417083   -1.382094   \n",
       "3     -0.840547    -0.359283        -0.758602    0.554105   -0.668698   \n",
       "4     -0.692677    -0.671224         1.067256    0.445510    0.044698   \n",
       "\n",
       "   num__adls  cat_one_hot__dzgroup_COPD  num__sps  num__aps  num__hday  \\\n",
       "0  -0.762361                  -0.345108  1.313336  1.388011  -0.062275   \n",
       "1   0.264000                  -0.345108  1.146439  2.124315   1.822473   \n",
       "2  -0.249181                  -0.345108  0.970354  0.602621  -0.271691   \n",
       "3   0.777181                  -0.345108  0.146967  1.142577  -0.166983   \n",
       "4  -0.249181                  -0.345108 -0.000026 -0.673639  -0.376399   \n",
       "\n",
       "   cat_one_hot__dzclass_ARF/MOSF  cat_simple__sfdm2  \n",
       "0                       1.047867                1.0  \n",
       "1                       1.047867                1.0  \n",
       "2                       1.047867                1.0  \n",
       "3                       1.047867                1.0  \n",
       "4                      -0.954319                1.0  "
      ]
     },
     "execution_count": 1,
     "metadata": {},
     "output_type": "execute_result"
    }
   ],
   "source": [
    "from imblearn.over_sampling import RandomOverSampler\n",
    "from collections import Counter\n",
    "import pandas as pd\n",
    "import matplotlib.pyplot as plt\n",
    "from sklearn.ensemble import RandomForestClassifier\n",
    "from sklearn.metrics import classification_report, confusion_matrix\n",
    "\n",
    "train = pd.read_csv('~/Downloads/prepared_train_data sd.csv')\n",
    "test = pd.read_csv('~/Downloads/prepared_test_data sd.csv')\n",
    "train.head()\n"
   ]
  },
  {
   "cell_type": "code",
   "execution_count": 2,
   "metadata": {},
   "outputs": [],
   "source": [
    "X_train = train.drop(columns=[\"cat_simple__sfdm2\"])\n",
    "y_train = train[\"cat_simple__sfdm2\"]\n",
    "\n",
    "X_test = test.drop(columns=[\"cat_simple__sfdm2\"])\n",
    "y_test = test[\"cat_simple__sfdm2\"]\n",
    "\n",
    "X_test_encoded = pd.get_dummies(X_test, drop_first=True)\n",
    "X_train, X_test_encoded = X_train.align(X_test_encoded, join=\"left\", axis=1, fill_value=0)\n"
   ]
  },
  {
   "cell_type": "code",
   "execution_count": 5,
   "metadata": {},
   "outputs": [
    {
     "name": "stdout",
     "output_type": "stream",
     "text": [
      "Before oversampling: Counter({1.0: 2498, 2.0: 2449, 3.0: 733, 4.0: 451, 5.0: 33})\n"
     ]
    },
    {
     "data": {
      "image/png": "[encoded data removed]",
      "text/plain": [
       "<Figure size 800x500 with 1 Axes>"
      ]
     },
     "metadata": {},
     "output_type": "display_data"
    }
   ],
   "source": [
    "import matplotlib.pyplot as plt\n",
    "import seaborn as sns\n",
    "from collections import Counter\n",
    "\n",
    "def plot_class_distribution(y, title=\"Class Distribution\"):\n",
    "    class_counts = Counter(y)\n",
    "    classes = list(class_counts.keys())\n",
    "    counts = list(class_counts.values())\n",
    "\n",
    "    plt.figure(figsize=(8, 5))\n",
    "    sns.barplot(x=classes, y=counts)\n",
    "    plt.title(title)\n",
    "    plt.xlabel(\"Class\")\n",
    "    plt.ylabel(\"Count\")\n",
    "    plt.xticks(rotation=45)\n",
    "    plt.tight_layout()\n",
    "    plt.show()\n",
    "# Before\n",
    "print(\"Before oversampling:\", Counter(y_train))\n",
    "plot_class_distribution(y_train, \"Before Oversampling\")"
   ]
  },
  {
   "cell_type": "code",
   "execution_count": 9,
   "metadata": {},
   "outputs": [
    {
     "name": "stdout",
     "output_type": "stream",
     "text": [
      "              precision    recall  f1-score   support\n",
      "\n",
      "           1       0.75      0.82      0.78       625\n",
      "           2       0.68      0.83      0.75       612\n",
      "           3       0.51      0.31      0.38       183\n",
      "           4       0.29      0.02      0.03       113\n",
      "           5       0.00      0.00      0.00         8\n",
      "\n",
      "    accuracy                           0.70      1541\n",
      "   macro avg       0.45      0.39      0.39      1541\n",
      "weighted avg       0.66      0.70      0.66      1541\n",
      "\n"
     ]
    },
    {
     "name": "stderr",
     "output_type": "stream",
     "text": [
      "/opt/miniconda3/lib/python3.12/site-packages/sklearn/metrics/_classification.py:1565: UndefinedMetricWarning: Precision is ill-defined and being set to 0.0 in labels with no predicted samples. Use `zero_division` parameter to control this behavior.\n",
      "  _warn_prf(average, modifier, f\"{metric.capitalize()} is\", len(result))\n",
      "/opt/miniconda3/lib/python3.12/site-packages/sklearn/metrics/_classification.py:1565: UndefinedMetricWarning: Precision is ill-defined and being set to 0.0 in labels with no predicted samples. Use `zero_division` parameter to control this behavior.\n",
      "  _warn_prf(average, modifier, f\"{metric.capitalize()} is\", len(result))\n",
      "/opt/miniconda3/lib/python3.12/site-packages/sklearn/metrics/_classification.py:1565: UndefinedMetricWarning: Precision is ill-defined and being set to 0.0 in labels with no predicted samples. Use `zero_division` parameter to control this behavior.\n",
      "  _warn_prf(average, modifier, f\"{metric.capitalize()} is\", len(result))\n"
     ]
    }
   ],
   "source": [
    "clf = RandomForestClassifier(random_state=42)\n",
    "clf.fit(X_train, y_train)\n",
    "y_pred = clf.predict(X_test_encoded)\n",
    "\n",
    "print(classification_report(y_test, y_pred))"
   ]
  },
  {
   "cell_type": "code",
   "execution_count": 106,
   "metadata": {},
   "outputs": [
    {
     "name": "stdout",
     "output_type": "stream",
     "text": [
      "After oversampling: Counter({1.0: 2498, 2.0: 2498, 4.0: 2498, 3.0: 2498, 5.0: 2498})\n"
     ]
    },
    {
     "data": {
      "image/png": "[encoded data removed]",
      "text/plain": [
       "<Figure size 800x500 with 1 Axes>"
      ]
     },
     "metadata": {},
     "output_type": "display_data"
    }
   ],
   "source": [
    "#Random oversampling method\n",
    "ros = RandomOverSampler(random_state=42)\n",
    "X_train_ros, y_train_ros = ros.fit_resample(X_train, y_train)\n",
    "\n",
    "X_ros_df = pd.DataFrame(X_train_ros, columns=X_train.columns)\n",
    "y_ros_df = pd.Series(y_train_ros, name='target')\n",
    "\n",
    "# Plot class distribution after oversampling\n",
    "print(\"After oversampling:\", Counter(y_train_ros))\n",
    "plot_class_distribution(y_train_ros, \"After Oversampling\")\n",
    "\n",
    "# Combine features and target\n",
    "ros_combined_df = pd.concat([X_ros_df, y_ros_df], axis=1)\n",
    "\n",
    "# Export to CSV\n",
    "ros_combined_df.to_csv('training_data_ros.csv', index=False)"
   ]
  },
  {
   "cell_type": "code",
   "execution_count": 10,
   "metadata": {},
   "outputs": [
    {
     "name": "stdout",
     "output_type": "stream",
     "text": [
      " Classification Report (After Random Oversampling):\n",
      "              precision    recall  f1-score   support\n",
      "\n",
      "           1       0.78      0.80      0.79       625\n",
      "           2       0.69      0.82      0.75       612\n",
      "           3       0.45      0.37      0.40       183\n",
      "           4       0.11      0.03      0.04       113\n",
      "           5       0.00      0.00      0.00         8\n",
      "\n",
      "    accuracy                           0.69      1541\n",
      "   macro avg       0.41      0.40      0.40      1541\n",
      "weighted avg       0.65      0.69      0.67      1541\n",
      "\n"
     ]
    }
   ],
   "source": [
    "# random oversampling result\n",
    "clf_ros = RandomForestClassifier(random_state=42)\n",
    "clf_ros.fit(X_train_ros, y_train_ros)\n",
    "\n",
    "\n",
    "y_pred_ros = clf_ros.predict(X_test)\n",
    "\n",
    "\n",
    "print(\" Classification Report (After Random Oversampling):\")\n",
    "print(classification_report(y_test, y_pred_ros))"
   ]
  },
  {
   "cell_type": "code",
   "execution_count": 105,
   "metadata": {},
   "outputs": [
    {
     "name": "stdout",
     "output_type": "stream",
     "text": [
      " Classification Report (SMOTE):\n",
      "              precision    recall  f1-score   support\n",
      "\n",
      "           1       0.79      0.77      0.78       625\n",
      "           2       0.70      0.75      0.73       612\n",
      "           3       0.39      0.38      0.38       183\n",
      "           4       0.12      0.08      0.10       113\n",
      "           5       0.11      0.12      0.12         8\n",
      "\n",
      "    accuracy                           0.67      1541\n",
      "   macro avg       0.42      0.42      0.42      1541\n",
      "weighted avg       0.65      0.67      0.66      1541\n",
      "\n"
     ]
    }
   ],
   "source": [
    "from sklearn.impute import SimpleImputer\n",
    "from sklearn.preprocessing import StandardScaler\n",
    "from imblearn.over_sampling import SMOTE\n",
    "\n",
    "# Using SMOTE to generate synthetic observations for minority class\n",
    "smote = SMOTE(random_state=42)\n",
    "X_train_smote, y_train_smote = smote.fit_resample(X_train, y_train)\n",
    "\n",
    "\n",
    "clf_smote = RandomForestClassifier(random_state=42)\n",
    "clf_smote.fit(X_train_smote, y_train_smote)\n",
    "\n",
    "y_pred_smote = clf_smote.predict(X_test)\n",
    "\n",
    "X_smote_df = pd.DataFrame(X_train_smote, columns=X_train.columns)\n",
    "y_smote_df = pd.Series(y_train_smote, name='target')\n",
    "\n",
    "print(\" Classification Report (SMOTE):\")\n",
    "print(classification_report(y_test, y_pred_smote))\n",
    "# Combine features and target\n",
    "smote_combined_df = pd.concat([X_smote_df, y_smote_df], axis=1)\n",
    "\n",
    "# Export to CSV\n",
    "smote_combined_df.to_csv('training_data_smote.csv', index=False)"
   ]
  },
  {
   "cell_type": "code",
   "execution_count": 19,
   "metadata": {},
   "outputs": [],
   "source": [
    "from sklearn.decomposition import PCA\n",
    "from sklearn.neighbors import NearestNeighbors\n",
    "from imblearn.under_sampling import RandomUnderSampler\n",
    "from collections import Counter\n",
    "import numpy as np\n",
    "\n",
    "\n",
    "# Perform under/oversampling to reach specified sample count per class\n",
    "def flexible_balance_data(X, y, target_counts, pca_variance_ratio=0.9, lam_range=(0, 1), random_state=42):\n",
    "    np.random.seed(random_state)\n",
    "    X = np.asarray(X)\n",
    "    y = np.asarray(y)\n",
    "    class_counts = Counter(y)\n",
    "\n",
    "    # Downsample classes with more samples than target\n",
    "    undersample_dict = {\n",
    "        cls: target_counts[cls] for cls in class_counts\n",
    "        if cls in target_counts and class_counts[cls] > target_counts[cls]\n",
    "    }\n",
    "\n",
    "    rus = RandomUnderSampler(sampling_strategy=undersample_dict, random_state=random_state)\n",
    "    X_rus, y_rus = rus.fit_resample(X, y)\n",
    "\n",
    "    post_counts = Counter(y_rus)\n",
    "    X_aug = X_rus.copy()\n",
    "    y_aug = y_rus.copy()\n",
    "\n",
    "    # Generate synthetic samples for underrepresented classes\n",
    "    for cls, count in post_counts.items():\n",
    "        if cls not in target_counts:\n",
    "            continue\n",
    "\n",
    "        target_count = target_counts[cls]\n",
    "        if count >= target_count:\n",
    "            continue\n",
    "\n",
    "        X_cls = X_rus[y_rus == cls]\n",
    "        n_to_generate = target_count - count\n",
    "        k = min(5, len(X_cls) - 1)\n",
    "\n",
    "        pca = PCA(n_components=pca_variance_ratio, random_state=random_state)\n",
    "        X_cls_pca = pca.fit_transform(X_cls)\n",
    "        nn = NearestNeighbors(n_neighbors=k + 1)\n",
    "        nn.fit(X_cls_pca)\n",
    "        neighbors = nn.kneighbors(X_cls_pca, return_distance=False)\n",
    "\n",
    "        synthetic_samples = []\n",
    "        for _ in range(n_to_generate):\n",
    "            idx = np.random.randint(0, len(X_cls))\n",
    "            neighbor_idx = np.random.choice(neighbors[idx][1:])\n",
    "            lam = np.random.uniform(*lam_range)\n",
    "            new_sample = X_cls[idx] + lam * (X_cls[neighbor_idx] - X_cls[idx])\n",
    "            synthetic_samples.append(new_sample)\n",
    "\n",
    "        X_aug = np.vstack([X_aug, synthetic_samples])\n",
    "        y_aug = np.concatenate([y_aug, np.full(n_to_generate, cls)])\n",
    "\n",
    "    return X_aug, y_aug\n",
    "\n",
    "# Main pipeline to balance, train, and evaluate\n"
   ]
  },
  {
   "cell_type": "code",
   "execution_count": null,
   "metadata": {},
   "outputs": [],
   "source": [
    "def augsmote_pipeline(X_train, y_train, X_test, y_test, target_counts):\n",
    "\n",
    "    # Apply augmented SMOTE using custom flexible balancing\n",
    "    X_aug, y_aug = flexible_balance_data(\n",
    "        X_train, y_train,\n",
    "        target_counts=target_counts,\n",
    "        pca_variance_ratio=0.9,\n",
    "        lam_range=(0.1, 0.9),\n",
    "        random_state=42\n",
    "    )\n",
    "\n",
    "    # Train classifier\n",
    "    clf = RandomForestClassifier(random_state=42)\n",
    "    clf.fit(X_aug, y_aug)\n",
    "\n",
    "    # Predict and evaluate\n",
    "    y_pred = clf.predict(X_test)\n",
    "    print(\"\\nClassification Report (augSMOTE):\")\n",
    "    print(classification_report(y_test, y_pred))\n",
    "\n",
    "    return clf, X_aug, y_aug"
   ]
  },
  {
   "cell_type": "code",
   "execution_count": 103,
   "metadata": {},
   "outputs": [
    {
     "name": "stdout",
     "output_type": "stream",
     "text": [
      "\n",
      "Classification Report (augSMOTE):\n",
      "              precision    recall  f1-score   support\n",
      "\n",
      "           1       0.78      0.78      0.78       625\n",
      "           2       0.70      0.79      0.74       612\n",
      "           3       0.46      0.40      0.43       183\n",
      "           4       0.17      0.08      0.11       113\n",
      "           5       0.25      0.12      0.17         8\n",
      "\n",
      "    accuracy                           0.69      1541\n",
      "   macro avg       0.47      0.44      0.44      1541\n",
      "weighted avg       0.66      0.69      0.67      1541\n",
      "\n"
     ]
    },
    {
     "name": "stderr",
     "output_type": "stream",
     "text": [
      "/opt/miniconda3/lib/python3.12/site-packages/sklearn/utils/validation.py:2732: UserWarning: X has feature names, but RandomForestClassifier was fitted without feature names\n",
      "  warnings.warn(\n"
     ]
    }
   ],
   "source": [
    "clf, X_aug, y_aug = augsmote_pipeline(\n",
    "    X_train, y_train, X_test, y_test,\n",
    "    target_counts={1: 700, 2: 700, 3: 350, 4: 280, 5: 80}\n",
    ")"
   ]
  },
  {
   "cell_type": "code",
   "execution_count": 104,
   "metadata": {},
   "outputs": [],
   "source": [
    "import pandas as pd\n",
    "\n",
    "X_aug_df = pd.DataFrame(X_aug, columns=X_train.columns)\n",
    "y_aug_df = pd.Series(y_aug, name='target')\n",
    "\n",
    "final_augmented_data = pd.concat([X_aug_df, y_aug_df], axis=1)\n",
    "final_augmented_data.to_csv(\"augmented_scaled_data.csv\", index=False)"
   ]
  }
 ],
 "metadata": {
  "kernelspec": {
   "display_name": "base",
   "language": "python",
   "name": "python3"
  },
  "language_info": {
   "codemirror_mode": {
    "name": "ipython",
    "version": 3
   },
   "file_extension": ".py",
   "mimetype": "text/x-python",
   "name": "python",
   "nbconvert_exporter": "python",
   "pygments_lexer": "ipython3",
   "version": "3.12.2"
  }
 },
 "nbformat": 4,
 "nbformat_minor": 2
}
